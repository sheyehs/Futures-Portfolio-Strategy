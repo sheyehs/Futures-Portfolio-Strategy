{
 "cells": [
  {
   "cell_type": "markdown",
   "id": "858eebb0",
   "metadata": {},
   "source": [
    "# 因子构造\n",
    "输入原始数据，要求：1.所有记录周期相同(日、分钟、周)；2.列名称已修改得符合我们的规范(high, close, volume)；3.缺失值已处理"
   ]
  },
  {
   "cell_type": "markdown",
   "id": "e954c161",
   "metadata": {},
   "source": [
    "# 使用指南\n",
    "1. 选择第二或第三个cell\n",
    "2. 点击菜单栏Cell->Run All Below\n",
    "3. 回到第一个cell，根据需要修改factorInfo和labelInfo字典，格式参考示例(第二个cell)\n",
    "3. run一次第一个cell即可"
   ]
  },
  {
   "cell_type": "code",
   "execution_count": 13,
   "id": "2b04c633",
   "metadata": {},
   "outputs": [
    {
     "name": "stdout",
     "output_type": "stream",
     "text": [
      "author: Siltka (Shi Yaoen)\n",
      "update time: 2022/2/18\n",
      "\n",
      "calling factor_construct\n",
      "\n",
      "calling load_data\n",
      "data path is: C:/Users/ShaunMarx/实习_量化坊/02甲醇期货技术指标/IF.csv\n",
      "calling factor_hub\n",
      "constructing No.1 factor:\n",
      "calling close\n",
      "{'window': 20}\n",
      "calling factor_window\n",
      "factor name: Index(['close'], dtype='object')\n",
      "window: 20\n",
      "constructing No.2 factor:\n",
      "calling atr\n",
      "{'time period': 14, 'window': 6}\n",
      "calling factor_window\n",
      "factor name: Index(['atr14'], dtype='object')\n",
      "window: 6\n",
      "constructing No.3 factor:\n",
      "calling rsi\n",
      "{'time period': 14, 'window': 6}\n",
      "calling factor_window\n",
      "factor name: Index(['rsi14'], dtype='object')\n",
      "window: 6\n",
      "\n",
      "calling label_hub\n",
      "constructing No.1 label:\n",
      "calling future_return\n",
      "{'future period': [3, 5]}\n",
      "\n",
      "concating label and factor\n",
      "future_return3\n",
      "future_return5\n"
     ]
    }
   ],
   "source": [
    "factorInfo = {\n",
    "    'close': {\n",
    "        'window': 20\n",
    "    },\n",
    "    'atr': {\n",
    "        'time period': 14,\n",
    "        'window': 6\n",
    "    },\n",
    "    'rsi': {\n",
    "        'time period': 14,\n",
    "        'window': 6\n",
    "    }\n",
    "}\n",
    "\n",
    "labelInfo = {\n",
    "    'future return': {\n",
    "        'future period': [3, 5]\n",
    "    }\n",
    "}\n",
    "\n",
    "factor_construct(dataPath='C:/Users/ShaunMarx/实习_量化坊/02甲醇期货技术指标/IF.csv',\n",
    "                outPath='C:/Users/ShaunMarx/实习_量化坊/03因子检验程序',\n",
    "                factorInfo=factorInfo,\n",
    "                labelInfo=labelInfo)"
   ]
  },
  {
   "cell_type": "markdown",
   "id": "57f9949a",
   "metadata": {},
   "source": [
    "# factorInfo与labelInfo格式示例\n",
    "示范字典格式所用，真实要跑的参数不要在这里改"
   ]
  },
  {
   "cell_type": "code",
   "execution_count": null,
   "id": "f76903b8",
   "metadata": {},
   "outputs": [],
   "source": [
    "factorInfo = {\n",
    "    'close': {\n",
    "        'window': 20\n",
    "    },\n",
    "    'atr': {\n",
    "        'time period': 14,\n",
    "        'window': 6\n",
    "    },\n",
    "    'rsi': {\n",
    "        'time period': 14,  # 改成和future return一样的list格式\n",
    "        'window': 6\n",
    "    }\n",
    "}\n",
    "\n",
    "labelInfo = {\n",
    "    'future return': {\n",
    "        'future period': [3, 5]\n",
    "    }\n",
    "}"
   ]
  },
  {
   "cell_type": "markdown",
   "id": "588c7680",
   "metadata": {},
   "source": [
    "# import必要的库"
   ]
  },
  {
   "cell_type": "code",
   "execution_count": 1,
   "id": "7141ab1e",
   "metadata": {},
   "outputs": [],
   "source": [
    "import pandas as pd \n",
    "import numpy as np\n",
    "import time\n",
    "import talib\n",
    "\n",
    "import warnings\n",
    "warnings.filterwarnings('ignore')"
   ]
  },
  {
   "cell_type": "markdown",
   "id": "4d88cbeb",
   "metadata": {},
   "source": [
    "# define外部所调用的接口函数"
   ]
  },
  {
   "cell_type": "code",
   "execution_count": 12,
   "id": "a7421e85",
   "metadata": {},
   "outputs": [],
   "source": [
    "def factor_construct(dataPath:str, outPath:str, factorInfo:dict, labelInfo:dict):\n",
    "    \n",
    "    print('author: Siltka (Shi Yaoen)')\n",
    "    print('update time: 2022/2/18')\n",
    "    print()\n",
    "    print('calling factor_construct')\n",
    "    print()\n",
    "    \n",
    "    # 载入数据\n",
    "    data = load_data(dataPath)\n",
    "    \n",
    "    # 检查是否有缺失值\n",
    "    if data.isna().any().any():\n",
    "        print('ERROR: data has missing value(s), please fill it.')\n",
    "        return\n",
    "    \n",
    "    # 构建因子\n",
    "    factor_df = factor_hub(data, factorInfo)\n",
    "        \n",
    "    print()\n",
    "    \n",
    "    # 构建标签(被解释变量)\n",
    "    label_df = label_hub(data, labelInfo)\n",
    "    \n",
    "    print()\n",
    "    \n",
    "    # 分别将标签与因子拼接\n",
    "    print('concating label and factor:')\n",
    "    ready_data_list = []\n",
    "    for label in label_df.columns:\n",
    "        print(label)\n",
    "        ready_data = pd.concat([label_df[label], factor_df], axis=1).dropna()\n",
    "        ready_data.to_csv(outPath+'/'+'ready_data'+str(round(time.time()*1e6))+'.csv')\n",
    "        ready_data_list.append(ready_data)"
   ]
  },
  {
   "cell_type": "markdown",
   "id": "7c354380",
   "metadata": {},
   "source": [
    "# define功能函数"
   ]
  },
  {
   "cell_type": "code",
   "execution_count": 3,
   "id": "94ee9222",
   "metadata": {},
   "outputs": [],
   "source": [
    "# 加载数据并将索引转换为pandas.DatetimeIndex\n",
    "def load_data(dataPath:str):\n",
    "\n",
    "    print('calling load_data')\n",
    "    print('data path is:', dataPath)\n",
    "    \n",
    "    if dataPath.endswith('.csv'):\n",
    "        data = pd.read_csv(dataPath, index_col=[0])\n",
    "    elif dataPath.endswith('.xlsx'):\n",
    "        data=pd.read_excel(dataPath, index_col=[0])\n",
    "    else:\n",
    "        print('ERROR: please enter correct file path.')\n",
    "        return\n",
    "    \n",
    "    data.index = pd.DatetimeIndex(data.index)\n",
    "    \n",
    "    return data"
   ]
  },
  {
   "cell_type": "code",
   "execution_count": 4,
   "id": "5169bbae",
   "metadata": {},
   "outputs": [],
   "source": [
    "# 对因子做一个向历史n天的window\n",
    "def factor_window(factor:pd.DataFrame, window:int):\n",
    "    \n",
    "    print('calling factor_window')\n",
    "    print('factor name:', factor.columns)\n",
    "    print('window:', str(window))\n",
    "    \n",
    "    if window <= 1:\n",
    "        return factor\n",
    "    \n",
    "    window_list = []\n",
    "    for i in range(0,len(factor.columns)):\n",
    "        window_list.append(factor.iloc[:,i])\n",
    "        factorName = factor.columns[i]\n",
    "        for j in range(1, window):\n",
    "            shift_col = factor.iloc[:,i].shift(j)\n",
    "            shift_col.name = factorName+'+'+str(j)\n",
    "            window_list.append(shift_col)\n",
    "    \n",
    "    return pd.concat(window_list, axis=1)"
   ]
  },
  {
   "cell_type": "markdown",
   "id": "d9099e64",
   "metadata": {},
   "source": [
    "# define因子枢纽函数"
   ]
  },
  {
   "cell_type": "code",
   "execution_count": 5,
   "id": "81b72246",
   "metadata": {},
   "outputs": [],
   "source": [
    "def factor_hub(data:pd.DataFrame, factorInfo:dict):\n",
    "    \n",
    "    print('calling factor_hub')\n",
    "    \n",
    "    factorNumber = 0\n",
    "    factorList = []\n",
    "    \n",
    "    for factorName in factorInfo.keys():\n",
    "        factorNumber +=1\n",
    "        print('constructing No.'+str(factorNumber)+' factor:')\n",
    "        \n",
    "        if factorName == 'close':\n",
    "            factorList.append(close(data, factorInfo[factorName]))\n",
    "        elif factorName == 'atr':\n",
    "            factorList.append(atr(data, factorInfo[factorName]))\n",
    "        elif factorName == 'rsi':\n",
    "            factorList.append(rsi(data, factorInfo[factorName]))\n",
    "        \n",
    "    return pd.concat(factorList, axis=1)"
   ]
  },
  {
   "cell_type": "markdown",
   "id": "a04ec67d",
   "metadata": {},
   "source": [
    "# define各类因子构建函数\n",
    "新建好一个factor后就到factor_hub去新建一个选择分支"
   ]
  },
  {
   "cell_type": "code",
   "execution_count": 6,
   "id": "6d6a2fc2",
   "metadata": {},
   "outputs": [],
   "source": [
    "def close(data:pd.DataFrame, params:dict):\n",
    "    \n",
    "    print('calling close')\n",
    "    print(params)\n",
    "\n",
    "    close = data.loc[:,['close']]  # 这样切列使得close不会变成Series，全部统一成DataFrame，为了方便处理\n",
    "    time_index = data.index\n",
    "        \n",
    "    return factor_window(close, params['window'])"
   ]
  },
  {
   "cell_type": "code",
   "execution_count": 7,
   "id": "dd4ebb94",
   "metadata": {},
   "outputs": [],
   "source": [
    "def atr(data:pd.DataFrame, params:dict):\n",
    "    \n",
    "    print('calling atr')\n",
    "    print(params)\n",
    "    \n",
    "    high = data.loc[:,'high']\n",
    "    low = data.loc[:,'low']\n",
    "    close = data.loc[:,'close']\n",
    "    time_index = data.index\n",
    "    timeperiod = params['time period']\n",
    "    \n",
    "    atr = pd.DataFrame({'atr'+str(timeperiod): talib.ATR(high, low, close, timeperiod)}, index=time_index)\n",
    "    \n",
    "    return factor_window(atr, params['window'])"
   ]
  },
  {
   "cell_type": "code",
   "execution_count": 8,
   "id": "1d2bbd2a",
   "metadata": {},
   "outputs": [],
   "source": [
    "def rsi(data:pd.DataFrame, params:dict):\n",
    "    \n",
    "    print('calling rsi')\n",
    "    print(params)\n",
    "\n",
    "    close = data.loc[:,'close']\n",
    "    time_index = data.index\n",
    "    timeperiod = params['time period']\n",
    "    \n",
    "    rsi = pd.DataFrame({'rsi'+str(timeperiod): talib.RSI(close, timeperiod)}, index=time_index)\n",
    "    \n",
    "    return factor_window(rsi, params['window'])"
   ]
  },
  {
   "cell_type": "markdown",
   "id": "2caec279",
   "metadata": {},
   "source": [
    "# define标签枢纽函数"
   ]
  },
  {
   "cell_type": "code",
   "execution_count": 9,
   "id": "2797f48c",
   "metadata": {},
   "outputs": [],
   "source": [
    "def label_hub(data:pd.DataFrame, labelInfo:dict):\n",
    "    \n",
    "    print('calling label_hub')\n",
    "    \n",
    "    labelNumber = 0\n",
    "    labelList = []\n",
    "    \n",
    "    for labelName in labelInfo.keys():\n",
    "        labelNumber +=1\n",
    "        print('constructing No.'+str(labelNumber)+' label:')\n",
    "        \n",
    "        if labelName == 'future return':\n",
    "            labelList.append(future_return(data, labelInfo[labelName]))\n",
    "    \n",
    "    return pd.concat(labelList, axis=1)"
   ]
  },
  {
   "cell_type": "markdown",
   "id": "322f60c6",
   "metadata": {},
   "source": [
    "# define各类可选择的标签类型"
   ]
  },
  {
   "cell_type": "code",
   "execution_count": 10,
   "id": "2224805a",
   "metadata": {},
   "outputs": [],
   "source": [
    "def future_return(data:pd.DataFrame, params:dict):\n",
    "    \n",
    "    print('calling future_return')\n",
    "    print(params)\n",
    "\n",
    "    close = data.loc[:,['close']]  # 这样切列使得close不会变成Series，全部统一成DataFrame，为了方便处理\n",
    "    time_index = data.index\n",
    "    futureperiod = params['future period']\n",
    "    \n",
    "    future_returnList = []\n",
    "    for fp in futureperiod:\n",
    "        future_return = close.pct_change(fp).shift(-fp)\n",
    "        future_return.rename(columns={'close':'future_return'+str(fp)}, inplace=True)\n",
    "        future_returnList.append(future_return)\n",
    "\n",
    "    return pd.concat(future_returnList,axis=1)"
   ]
  },
  {
   "cell_type": "code",
   "execution_count": null,
   "id": "7aac69e9",
   "metadata": {},
   "outputs": [],
   "source": []
  },
  {
   "cell_type": "code",
   "execution_count": null,
   "id": "d8cf74d8",
   "metadata": {},
   "outputs": [],
   "source": []
  },
  {
   "cell_type": "code",
   "execution_count": null,
   "id": "b4bb72d7",
   "metadata": {},
   "outputs": [],
   "source": []
  }
 ],
 "metadata": {
  "kernelspec": {
   "display_name": "Python 3",
   "language": "python",
   "name": "python3"
  },
  "language_info": {
   "codemirror_mode": {
    "name": "ipython",
    "version": 3
   },
   "file_extension": ".py",
   "mimetype": "text/x-python",
   "name": "python",
   "nbconvert_exporter": "python",
   "pygments_lexer": "ipython3",
   "version": "3.8.8"
  }
 },
 "nbformat": 4,
 "nbformat_minor": 5
}
